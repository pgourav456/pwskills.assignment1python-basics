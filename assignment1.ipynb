{
  "nbformat": 4,
  "nbformat_minor": 0,
  "metadata": {
    "colab": {
      "provenance": []
    },
    "kernelspec": {
      "name": "python3",
      "display_name": "Python 3"
    },
    "language_info": {
      "name": "python"
    }
  },
  "cells": [
    {
      "cell_type": "markdown",
      "source": [
        "#Name: Gaurav kumar pal\n",
        "#Assignment name : Python Basics\n",
        "\n",
        "#course: Data Analytics\n",
        "\n"
      ],
      "metadata": {
        "id": "pRubqFBfyItJ"
      }
    },
    {
      "cell_type": "markdown",
      "source": [
        "#Q.no.1 what is python and why is it popular?\n",
        "\n",
        "Ans. Python is a popular, versatile, and easy-to-learn programming language.It is widely used in web development, data science, machine learning, and more, due to its readability, extensive libraries, and a large, supportive community.It was created by Guido van Rossum and released in 1991.\n",
        "\n",
        "python is very popular among the developers because of the following reasons:\n",
        "1. simplicity and readablity.\n",
        "2. Versatility and Flexibility.\n",
        "3. large and active community support.\n",
        "4. extensive libraries and frameworks.\n",
        "5. Ease of Learning.\n",
        "6. cross plateforms compatibility.\n",
        "7. corporate support."
      ],
      "metadata": {
        "id": "hsrsjiL2_k7Z"
      }
    },
    {
      "cell_type": "markdown",
      "source": [
        "#Q.no.2 What is an interpreter in python?\n",
        "\n",
        "Ans.A Python interpreter is a program that reads and executes Python code. It translates Python code into machine-readable bytecode, which is then executed. This allows programmers to test and run code line by line."
      ],
      "metadata": {
        "id": "Ppuw1yy6xFr4"
      }
    },
    {
      "cell_type": "markdown",
      "source": [
        "#Q.no.3 what are predefined keywords in python?\n",
        "\n",
        "Ans. Python Keywords are some predefined and reserved words in Python that have special meanings. Keywords are used to define the syntax of the coding. The keyword cannot be used as an identifier, function, or variable name. All the keywords in Python are written in lowercase except True and False."
      ],
      "metadata": {
        "id": "Uhz9pqzbxt1l"
      }
    },
    {
      "cell_type": "markdown",
      "source": [
        "#Q.no.4 Can keywords be used as variable names?\n",
        "\n",
        "Ans. No, keywords cannot be used as variable names in python because keywords have predefined meanings and are used to define the language's syntax."
      ],
      "metadata": {
        "id": "piWPyuZAyg_N"
      }
    },
    {
      "cell_type": "markdown",
      "source": [
        "#Q.no 5 What is mutability in python?\n",
        "\n",
        "Ans. In Python, mutability refers to an object's ability to be changed after it's created, mutable objects can be modified in place, while immutable objects cannot be modified."
      ],
      "metadata": {
        "id": "MGzDYPadzdC7"
      }
    },
    {
      "cell_type": "markdown",
      "source": [
        "#Q.no.6 why are lists mutable but tuples are immutable ?\n",
        "\n",
        "Ans. lists are mutable because contents present in the list can be modified or changed after it is created , we can add and remove items in the list  but tuples are immutable because its content can not be modified or changed once it is created."
      ],
      "metadata": {
        "id": "8r69obNL0sh0"
      }
    },
    {
      "cell_type": "markdown",
      "source": [
        "#Q.no 7 What is difference between \"==\" and \"is\" operators in python?\n",
        "\n",
        "Ans.In Python, \"==\" checks for value equality (whether two objects have the same content), while \"is\" checks for object identity (whether two variables point to the same object in memory).\n",
        "\n",
        "== (Equality Operator):\n",
        "Compares the values of two objects.\n",
        "Returns True if the objects have the same content, and False otherwise.\n",
        "Example: [1, 2] == [1, 2] returns True because the lists have the same elements.\n",
        "\n",
        "is (Identity Operator):\n",
        "Checks if two variables refer to the same object in memory.\n",
        "Returns True if they point to the same object, and False otherwise.\n",
        "Example: a = [1, 2]; b = a; a is b returns True because a and b point to the same list object.\n",
        "Example: a = [1, 2]; b = [1, 2]; a is b returns False because a and b point to different list objects, even though their contents are the same."
      ],
      "metadata": {
        "id": "2pF1FcPf3OxZ"
      }
    },
    {
      "cell_type": "markdown",
      "source": [
        "#Q.no.8 What are the logical operators in python?\n",
        "\n",
        "Ans. In Python, logical operators are also known as Boolean operators, are 'and', 'or', and 'not'. They are used to combine or modify Boolean values (True or False) and produce a Boolean result, enabling conditional logic in your code.\n",
        "\n",
        "and:\n",
        "Returns True if both operands are True; otherwise, returns False.\n",
        "Example: (5 > 3) and (2 < 4) evaluates to True because both conditions are true.\n",
        "\n",
        "or:\n",
        "Returns True if at least one operand is True; returns False only if both operands are False.\n",
        "Example: (5 > 3) or (2 > 4) evaluates to True because the first condition is true.\n",
        "\n",
        "not:\n",
        "Reverses the truth value of its operand. If the operand is True, it returns False, and vice versa.\n",
        "Example: not(5 > 3) evaluates to False because 5 > 3 is True."
      ],
      "metadata": {
        "id": "wQ8SLT145BQ_"
      }
    },
    {
      "cell_type": "markdown",
      "source": [
        "#Q.no.9 What is type casting in python?\n",
        "\n",
        "Ans. In Python, type casting (also known as type conversion) is the process of converting a variable's data type to another, allowing for flexible operations and data manipulation. This can be done either implicitly (automatically by Python) or explicitly (using built-in functions like int(), float(), str(), etc.)."
      ],
      "metadata": {
        "id": "2yhIAhMN60i1"
      }
    },
    {
      "cell_type": "markdown",
      "source": [
        "#Q.no 10 What is the difference between implicit and explicit type casting?\n",
        "\n",
        "Ans. Implicit type casting :The compiler automatically converts a value from one data type to another without any explicit instruction from the programmer.\n",
        "\n",
        "Explicit type casting :The programmer explicitly instructs the compiler to convert a value from one data type to another using a special syntax (e.g., (int)10.5)."
      ],
      "metadata": {
        "id": "RS0H9chv7gO6"
      }
    },
    {
      "cell_type": "markdown",
      "source": [
        "#Q.no.11 What is the purpose of conditional statements in python?\n",
        "\n",
        "Ans.Conditional statements in Python, like if, elif, and else, allow your code to make decisions and execute different blocks of code based on whether a condition is true or false, enabling dynamic and responsive programs.\n",
        "\n",
        "Decision-Making:\n",
        "Conditional statements are the core of decision-making in programming, allowing your code to react differently to various scenarios.\n",
        "\n",
        "Controlling Program Flow:\n",
        "They determine which parts of your code are executed and in what order, based on conditions being met.\n",
        "\n",
        "Creating Dynamic Programs:\n",
        "By using conditions, you can make your programs adaptable to different inputs and situations, rather than having them follow a rigid, linear path.\n",
        "\n",
        "Basic Syntax:\n",
        "if statement: Executes a block of code if a condition is true.\n",
        "elif (short for \"else if\"): Checks additional conditions if the previous if or elif conditions were false.\n",
        "else: Executes a block of code if none of the preceding if or elif conditions are true."
      ],
      "metadata": {
        "id": "3piUmXgC9Ec3"
      }
    },
    {
      "cell_type": "markdown",
      "source": [
        "#Q.no.12 How does the elif statement work?\n",
        "\n",
        "Ans. The “elif” keyword in Python, stands for “else if”. It can be used in conditional statements to check for multiple conditions. For example, if the first condition is false, it moves on to the next “elif” statement to check if that condition is true.\n",
        "for eg. age = 25\n",
        "\n",
        "if age < 18:\n",
        "    print(\"You are a minor.\")\n",
        "elif age >= 18 and age < 65:\n",
        "    print(\"You are an adult.\")\n",
        "elif age >= 65:\n",
        "    print(\"You are a senior citizen.\")"
      ],
      "metadata": {
        "id": "9MX0Ycz-_E8Y"
      }
    },
    {
      "cell_type": "markdown",
      "source": [
        "#Q.no.13 What is the difference between for and while loops?\n",
        "\n",
        "Ans. while loop : A 'while' loop is a crucial control structure in programming. It allows the execution of a block of code repeatedly while a specified condition is true.a 'while' loop is ideal for situations where the number of iterations is not predetermined and depends on some dynamic condition.\n",
        "\n",
        "for loop: A 'for' loop is a control structure in programming that allows you to execute a block of code repeatedly for a specific number of times. This loop is handy when you know how many times you need to iterate through a code block."
      ],
      "metadata": {
        "id": "jv-LesgoDoFw"
      }
    },
    {
      "cell_type": "markdown",
      "source": [
        "#Q.no.14 describe a scenario where a while loop is more suitable than a for loop.\n",
        "\n",
        "Ans.A while loop is more suitable when you don't know in advance how many times the loop should run, and you want to continue looping until a certain condition is met.\n",
        "Example Scenario:\n",
        "\n",
        "Imagine you're writing a program to simulate a game where a player is trying to guess a secret number. You don't know how many guesses it will take the player to guess correctly, but you want to keep asking them for guesses until they get it right.\n",
        "\n",
        "secret_number = 42\n",
        "guess = None\n",
        "\n",
        "while guess != secret_number:\n",
        "    guess = int(input(\"Guess the secret number: \"))\n",
        "    if guess < secret_number:\n",
        "        print(\"Too low!\")\n",
        "    elif guess > secret_number:\n",
        "        print(\"Too high!\")\n",
        "    else:\n",
        "        print(\"Congratulations! You've guessed the secret number.\")\n",
        "\n",
        "Uncertain Iterations: The number of iterations (or guesses in this case) is not known before the loop starts, and it depends on the player's ability to guess the secret number.\n",
        "\n",
        "Condition-based Termination: The loop should continue running as long as the guess is incorrect and only stop once the player guesses correctly. This is where the condition guess != secret_number makes more sense in a while loop rather than a for loop."
      ],
      "metadata": {
        "id": "SODt-Iv0Jnui"
      }
    },
    {
      "cell_type": "code",
      "source": [
        "#Q.no.1. Write a python code to print \"Hello World!\"\n",
        "print(\"Hello World\")"
      ],
      "metadata": {
        "colab": {
          "base_uri": "https://localhost:8080/"
        },
        "id": "_C17ztQAOUXD",
        "outputId": "c0b6f8e1-f87a-45fe-d8d6-5f68ab1250c5"
      },
      "execution_count": null,
      "outputs": [
        {
          "output_type": "stream",
          "name": "stdout",
          "text": [
            "Hello World\n"
          ]
        }
      ]
    },
    {
      "cell_type": "code",
      "source": [
        "#Q.no.2 Write a python program that displays your name and age.\n",
        "name = input(\"Enter your name: \")\n",
        "age = int(input(\"Enter your age: \"))\n",
        "print(\"Name:\", name)\n",
        "print(\"Age:\", age)"
      ],
      "metadata": {
        "colab": {
          "base_uri": "https://localhost:8080/"
        },
        "id": "_OL4mmIdOuLS",
        "outputId": "28946aee-710f-454b-c9f6-82b6ba10c1ee"
      },
      "execution_count": null,
      "outputs": [
        {
          "output_type": "stream",
          "name": "stdout",
          "text": [
            "Enter your name: gaurav\n",
            "Enter your age: 28\n",
            "Name: gaurav\n",
            "Age: 28\n"
          ]
        }
      ]
    },
    {
      "cell_type": "code",
      "source": [
        "#Q.no.3 Write a code to print all the pre-defined keywords in python using the library.\n",
        "import keyword\n",
        "keywords =keyword.kwlist\n",
        "for kw in keywords:\n",
        "    print(kw)\n"
      ],
      "metadata": {
        "colab": {
          "base_uri": "https://localhost:8080/"
        },
        "id": "lgmE-fuDPaGE",
        "outputId": "bcdb191f-a90a-4041-f0fb-51cedd3e7553"
      },
      "execution_count": null,
      "outputs": [
        {
          "output_type": "stream",
          "name": "stdout",
          "text": [
            "False\n",
            "None\n",
            "True\n",
            "and\n",
            "as\n",
            "assert\n",
            "async\n",
            "await\n",
            "break\n",
            "class\n",
            "continue\n",
            "def\n",
            "del\n",
            "elif\n",
            "else\n",
            "except\n",
            "finally\n",
            "for\n",
            "from\n",
            "global\n",
            "if\n",
            "import\n",
            "in\n",
            "is\n",
            "lambda\n",
            "nonlocal\n",
            "not\n",
            "or\n",
            "pass\n",
            "raise\n",
            "return\n",
            "try\n",
            "while\n",
            "with\n",
            "yield\n"
          ]
        }
      ]
    },
    {
      "cell_type": "code",
      "source": [
        "#Q.no.4 write a program that checks if a given word is a python keyword.\n",
        "import keyword\n",
        "word = input(\"Enter a word: \")\n",
        "if keyword.iskeyword(word):\n",
        "    print(f\"{word} is a Python keyword.\")\n",
        "else:\n",
        "    print(f\"{word} is not a Python keyword.\")"
      ],
      "metadata": {
        "id": "KRkIuEtqRocp",
        "colab": {
          "base_uri": "https://localhost:8080/"
        },
        "outputId": "a0e6653a-efa4-4dfe-8aac-f65ae618619b"
      },
      "execution_count": null,
      "outputs": [
        {
          "output_type": "stream",
          "name": "stdout",
          "text": [
            "Enter a word: if\n",
            "if is a Python keyword.\n"
          ]
        }
      ]
    },
    {
      "cell_type": "code",
      "source": [
        "#Q.no.5 create a list and tuple in python, and demonstrate how attempting to change an element works differently for each.\n",
        "# Creating a list and a tuple\n",
        "my_list = [1, 2, 3, 4]\n",
        "my_tuple = (1, 2, 3, 4)\n",
        "\n",
        "# Attempting to change an element in the list (this will work)\n",
        "my_list[1] = 10\n",
        "print(\"List after change:\", my_list)\n",
        "list after change = [1,10,3,4]\n",
        "\n",
        "# Attempting to change an element in the tuple (this will raise an error)\n",
        "try:\n",
        "    my_tuple[1] = 10\n",
        "except TypeError as e:\n",
        "    print(\"Error while changing tuple element:\", e)\n",
        "\n",
        "Error while changing tuple element: 'tuple' object does not support item assignment"
      ],
      "metadata": {
        "id": "3OUuwiLf4KuU"
      },
      "execution_count": null,
      "outputs": []
    },
    {
      "cell_type": "code",
      "source": [
        "#Q.no.6 write a function to demonstrate the behaviour of mutable and immutable arguments.\n",
        "def demonstrate_mutable_immutable():\n",
        "    # Immutable object example (integer)\n",
        "    def modify_immutable(x):\n",
        "        print(f\"Before modification (immutable): {x}\")\n",
        "        x += 10  # This creates a new integer object\n",
        "        print(f\"After modification (immutable): {x}\")\n",
        "\n",
        "    num = 5\n",
        "    modify_immutable(num)\n",
        "    print(f\"Outside function (immutable): {num}\\n\")  # num remains unchanged\n",
        "\n",
        "    # Mutable object example (list)\n",
        "    def modify_mutable(lst):\n",
        "        print(f\"Before modification (mutable): {lst}\")\n",
        "        lst.append(4)  # This modifies the original list\n",
        "        print(f\"After modification (mutable): {lst}\")\n",
        "\n",
        "    my_list = [1, 2, 3]\n",
        "    modify_mutable(my_list)\n",
        "    print(f\"Outside function (mutable): {my_list}\")  # my_list is modified\n",
        "\n",
        "# Run the demonstration\n",
        "demonstrate_mutable_immutable()\n",
        "    def modify_immutable(x):\n",
        "        print(f\"Before modification (immutable): {x}\")\n",
        "        x += 10  # This creates a new integer object\n",
        "        print(f\"After modification (immutable): {x}\")\n",
        "\n",
        "    num = 5\n",
        "    modify_immutable(num)\n",
        "    print(f\"Outside function (immutable): {num}\\n\")  # num remains unchanged\n",
        "\n",
        "    # Mutable object example (list)\n",
        "    def modify_mutable(lst):\n",
        "        print(f\"Before modification (mutable): {lst}\")\n",
        "        lst.append(4)  # This modifies the original list\n",
        "        print(f\"After modification (mutable): {lst}\")\n",
        "\n",
        "    my_list = [1, 2, 3]\n",
        "    modify_mutable(my_list)\n",
        "    print(f\"Outside function (mutable): {my_list}\")  # my_list is modified\n",
        "\n",
        "# Run the demonstration\n",
        "demonstrate_mutable_immutable()\n",
        "\n",
        "\n"
      ],
      "metadata": {
        "colab": {
          "base_uri": "https://localhost:8080/",
          "height": 106
        },
        "id": "WJJrtDks68to",
        "outputId": "cd7adaba-7061-43f0-c623-9009e7adbee7"
      },
      "execution_count": null,
      "outputs": [
        {
          "output_type": "error",
          "ename": "SyntaxError",
          "evalue": "invalid decimal literal (<ipython-input-2-7365b693156d>, line 1)",
          "traceback": [
            "\u001b[0;36m  File \u001b[0;32m\"<ipython-input-2-7365b693156d>\"\u001b[0;36m, line \u001b[0;32m1\u001b[0m\n\u001b[0;31m    Q.no.6def demonstrate_mutable_immutable():\u001b[0m\n\u001b[0m         ^\u001b[0m\n\u001b[0;31mSyntaxError\u001b[0m\u001b[0;31m:\u001b[0m invalid decimal literal\n"
          ]
        }
      ]
    },
    {
      "cell_type": "code",
      "source": [
        "#Q.no.7. Write a Program to demonstrate the use of logical operators.\n",
        "\n",
        "# Defining some sample variables\n",
        "age = 25\n",
        "is_student = True\n",
        "has_passed_exam = False\n",
        "\n",
        "# Using the `and` logical operator\n",
        "if age >= 18 and is_student:\n",
        "    print(\"You are an adult student.\")\n",
        "else:\n",
        "    print(\"You are either not an adult or not a student.\")\n",
        "\n",
        "# Using the `or` logical operator\n",
        "if age >= 18 or is_student:\n",
        "    print(\"You are either an adult or a student.\")\n",
        "else:\n",
        "    print(\"You are neither an adult nor a student.\")\n",
        "\n",
        "# Using the `not` logical operator\n",
        "if not has_passed_exam:\n",
        "    print(\"You need to retake the exam.\")\n",
        "else:\n",
        "    print(\"Congratulations! You passed the exam.\")\n",
        "\n",
        "# Combining multiple logical operators\n",
        "if age >= 18 and (is_student or has_passed_exam):\n",
        "    print(\"You are an adult and either a student or have passed the exam.\")\n",
        "else:\n",
        "    print(\"You don't meet the conditions.\")\n"
      ],
      "metadata": {
        "id": "4VRLRIXT5VlB"
      },
      "execution_count": null,
      "outputs": []
    },
    {
      "cell_type": "code",
      "source": [
        "#Q.no.8 write a python program to convert user input from string to integer ,float, and boolean types.\n",
        "def convert_input(value):\n",
        "    try:\n",
        "        int_value = int(value)\n",
        "        print(f\"Integer: {int_value}\")\n",
        "    except ValueError:\n",
        "        print(\"Cannot convert to integer\")\n",
        "\n",
        "    try:\n",
        "        float_value = float(value)\n",
        "        print(f\"Float: {float_value}\")\n",
        "    except ValueError:\n",
        "        print(\"Cannot convert to float\")\n",
        "\n",
        "    bool_value = value.strip().lower() in ['true', '1', 'yes', 'on']\n",
        "    print(f\"Boolean: {bool_value}\")\n",
        "\n",
        "if __name__ == \"__main__\":\n",
        "    user_input = input(\"Enter a value: \")\n",
        "    convert_input(user_input)\n",
        "\n"
      ],
      "metadata": {
        "id": "DRN5--W0OOgQ"
      },
      "execution_count": null,
      "outputs": []
    },
    {
      "cell_type": "code",
      "source": [
        "#Q.no.9 write a code to demonstrate type casting with list elements.\n",
        "# Demonstrating Type Casting with List Elements\n",
        "\n",
        "def type_casting_demo():\n",
        "    # Original list with mixed types as strings\n",
        "    str_list = ['10', '20.5', '30', 'True', 'False']\n",
        "    print(\"Original list:\", str_list)\n",
        "\n",
        "    # Convert string elements to integers where possible\n",
        "    int_list = [int(float(i)) if i.replace('.', '', 1).isdigit() else None for i in str_list]\n",
        "    print(\"List after converting to integers (if possible):\", int_list)\n",
        "\n",
        "    # Convert string elements to floats\n",
        "    float_list = [float(i) if i.replace('.', '', 1).isdigit() else None for i in str_list]\n",
        "    print(\"List after converting to floats (if possible):\", float_list)\n",
        "\n",
        "    # Convert string elements to boolean values\n",
        "    bool_list = [i.lower() == 'true' for i in str_list]\n",
        "    print(\"List after converting to booleans:\", bool_list)\n",
        "\n",
        "    # Convert all elements to strings\n",
        "    str_casted_list = [str(i) for i in int_list]\n",
        "    print(\"List after converting back to strings:\", str_casted_list)\n",
        "\n",
        "# Execute the function\n",
        "type_casting_demo()\n",
        "\n"
      ],
      "metadata": {
        "id": "VoOChavnO6t2"
      },
      "execution_count": null,
      "outputs": []
    },
    {
      "cell_type": "code",
      "source": [
        "#Q.no.10 Write a program that checks if a number is positive , negative or zero.\n",
        "num = float(input(\"Enter a number: \"))\n",
        "if num > 0:\n",
        "    print(\"The number is positive.\")\n",
        "elif num < 0:\n",
        "    print(\"The number is negative.\")\n",
        "else:\n",
        "    print(\"The number is zero.\")"
      ],
      "metadata": {
        "id": "VjE-Nn2JO6mf"
      },
      "execution_count": null,
      "outputs": []
    },
    {
      "cell_type": "code",
      "source": [
        "#Q.no.11 Write a  code for loop to print numbers from 1 to 10.\n",
        "for i in range(1, 11):\n",
        "    print(i)"
      ],
      "metadata": {
        "colab": {
          "base_uri": "https://localhost:8080/"
        },
        "id": "_SypbCinO6Sa",
        "outputId": "3854b13a-da64-4c76-9e47-1685f9877d34"
      },
      "execution_count": null,
      "outputs": [
        {
          "output_type": "stream",
          "name": "stdout",
          "text": [
            "1\n",
            "2\n",
            "3\n",
            "4\n",
            "5\n",
            "6\n",
            "7\n",
            "8\n",
            "9\n",
            "10\n"
          ]
        }
      ]
    },
    {
      "cell_type": "code",
      "source": [
        "#Q.no.12 Write a python program to finds the sum of all even numbers between 1 and 50.\n",
        "sum_even = 0\n",
        "for num in range(2, 51, 2):\n",
        "    sum_even += num\n",
        "print(\"The sum of even numbers between 1 and 50 is:\", sum_even)"
      ],
      "metadata": {
        "id": "XTSLpVkPO5_j"
      },
      "execution_count": null,
      "outputs": []
    },
    {
      "cell_type": "code",
      "source": [
        "#Q.no.13def reverse_string(s):\n",
        "    reversed_str = \"\"\n",
        "    index = len(s) - 1  # Start from the last character\n",
        "\n",
        "    while index >= 0:\n",
        "        reversed_str += s[index]  # Append the character to the result\n",
        "        index -= 1  # Move to the previous character\n",
        "\n",
        "    return reversed_str\n",
        "\n",
        "# Example usage\n",
        "string = \"Hello, World!\"\n",
        "print(\"Original String:\", string)\n",
        "print(\"Reversed String:\", reverse_string(string))"
      ],
      "metadata": {
        "id": "e8L9DTMBO5qV"
      },
      "execution_count": null,
      "outputs": []
    },
    {
      "cell_type": "code",
      "source": [
        "#Q.no.14 def factorial(n):\n",
        "    if n < 0:\n",
        "        return \"Factorial is not defined for negative numbers.\"\n",
        "    result = 1\n",
        "    while n > 1:\n",
        "        result *= n\n",
        "        n -= 1\n",
        "    return result\n",
        "\n",
        "# Get user input\n",
        "num = int(input(\"Enter a number: \"))\n",
        "print(f\"Factorial of {num} is {factorial(num)}\")\n"
      ],
      "metadata": {
        "id": "2fe3aUYfS3BF"
      },
      "execution_count": null,
      "outputs": []
    }
  ]
}